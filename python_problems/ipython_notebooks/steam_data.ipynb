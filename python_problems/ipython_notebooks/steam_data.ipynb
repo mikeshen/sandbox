{
 "cells": [
  {
   "cell_type": "code",
   "execution_count": null,
   "metadata": {},
   "outputs": [],
   "source": [
    "%pip install bokeh"
   ]
  },
  {
   "cell_type": "markdown",
   "metadata": {
    "vscode": {
     "languageId": "plaintext"
    }
   },
   "source": [
    "# Steam Data Analysis\n",
    "\n",
    "## Introduction\n",
    "This notebook is dedicated to analyzing data from the Steam platform, a popular digital distribution service for video games. The goal of this analysis is to uncover trends and insights about game popularity, user behavior, pricing, and other relevant metrics. By the end of this notebook, we aim to have a better understanding of the factors that influence game success on Steam.\n",
    "\n",
    "## Data Loading\n",
    "In this section, we load the dataset containing Steam data. We use the `pandas` library to read the data from a CSV file and perform initial inspections to understand its structure and contents.\n",
    "\n",
    "## Data Cleaning\n",
    "Data cleaning is a crucial step to ensure the quality of our analysis. Here, we handle missing values, correct data types, and perform any necessary transformations to prepare the data for analysis. This step ensures that our dataset is accurate and reliable.\n",
    "\n",
    "## Exploratory Data Analysis (EDA)\n",
    "Exploratory Data Analysis involves visualizing and summarizing the data to uncover patterns and insights. We use libraries like `matplotlib` and `seaborn` to create plots and charts that help us understand the distribution of variables, relationships between features, and other important aspects of the data.\n"
   ]
  },
  {
   "cell_type": "code",
   "execution_count": null,
   "metadata": {},
   "outputs": [],
   "source": [
    "import requests\n",
    "import json\n",
    "from itertools import islice\n",
    "\n",
    "def get_top_played_games_steamspy(limit=10):\n",
    "    url = 'https://steamspy.com/api.php?request=top100in2weeks'\n",
    "    response = requests.get(url)\n",
    "    data = response.json()\n",
    "    top_games = dict(islice(data.items(), limit))\n",
    "    return [game['appid'] for game in top_games.values()]\n",
    "\n",
    "def get_game_data(appid):\n",
    "    url = f'http://store.steampowered.com/api/appdetails?appids={appid}'\n",
    "    response = requests.get(url)\n",
    "    data = response.json()\n",
    "    if data[str(appid)]['success']:\n",
    "        return data[str(appid)]['data']\n",
    "    else:\n",
    "        return None\n",
    "\n",
    "def print_game_info(game_data):\n",
    "    if game_data:\n",
    "        print(f\"Title: {game_data.get('name', 'N/A')}\")\n",
    "        print(f\"Release Date: {game_data.get('release_date', {}).get('date', 'N/A')}\")\n",
    "        if 'price_overview' in game_data:\n",
    "            print(f\"Price: {game_data['price_overview']['final_formatted']}\")\n",
    "        else:\n",
    "            print(\"Price: Free\")\n",
    "        print(f\"Metacritic Score: {game_data.get('metacritic', {}).get('score', 'N/A')}\")\n",
    "        print(f\"Recommendations: {game_data.get('recommendations', {}).get('total', 'N/A')}\")\n",
    "        print(f\"Developers: {', '.join(game_data.get('developers', []))}\")\n",
    "        print(f\"Publishers: {', '.join(game_data.get('publishers', []))}\")\n",
    "    else:\n",
    "        print(\"Game data not found.\")\n",
    "\n",
    "# Fetch the list of top played games from SteamSpy\n",
    "top_played_games = get_top_played_games_steamspy(limit=200)\n",
    "print(top_played_games)\n"
   ]
  },
  {
   "cell_type": "code",
   "execution_count": 3,
   "metadata": {},
   "outputs": [],
   "source": [
    "import numpy as np\n",
    "\n",
    "# Fetch and store game details for each most played game\n",
    "game_data_list = []\n",
    "\n",
    "for appid in top_played_games:\n",
    "    game_data = get_game_data(appid)\n",
    "    if game_data:\n",
    "        game_data_list.append(game_data)\n",
    "\n",
    "# Convert the list of game data to a numpy array\n",
    "game_data_array = np.array(game_data_list)"
   ]
  },
  {
   "cell_type": "code",
   "execution_count": null,
   "metadata": {},
   "outputs": [],
   "source": [
    "import json\n",
    "\n",
    "# Pretty print the first game's data\n",
    "print_game_info(game_data_array[0])"
   ]
  },
  {
   "cell_type": "code",
   "execution_count": null,
   "metadata": {},
   "outputs": [],
   "source": [
    "from bokeh.plotting import figure, show, output_notebook\n",
    "from bokeh.models import ColumnDataSource, HoverTool\n",
    "\n",
    "# Convert price to numeric value\n",
    "def convert_price(price):\n",
    "    try:\n",
    "        if price == 'Free':\n",
    "            return 0\n",
    "        else:\n",
    "            return float(price.replace('$', ''))\n",
    "    except ValueError:\n",
    "        return None\n",
    "    \n",
    "    # Convert score to float, or return None\n",
    "    def convert_score(score):\n",
    "        try:\n",
    "            return float(score)\n",
    "        except (ValueError, TypeError):\n",
    "            return None\n",
    "\n",
    "# Extract game info\n",
    "def get_game_info(game_data):\n",
    "    title = game_data.get('name', 'N/A')\n",
    "    price = game_data.get('price_overview', {}).get('final_formatted', 'Free')\n",
    "    score = game_data.get('metacritic', {}).get('score', None)\n",
    "    recommendations = game_data.get('recommendations', {}).get('total', 'N/A')\n",
    "    return title, convert_price(price), score, recommendations\n",
    "\n",
    "\n",
    "# Prepare data for plotting\n",
    "plot_data = {\n",
    "    'Title': [],\n",
    "    'Price': [],\n",
    "    'Metacritic_Score': [],\n",
    "    'Recommendations': []\n",
    "}\n",
    "\n",
    "for game in game_data_array:\n",
    "    title, price, score, recommendations = get_game_info(game)\n",
    "    if price is not None and score is not None:\n",
    "        plot_data['Title'].append(title)\n",
    "        plot_data['Price'].append(price)\n",
    "        plot_data['Metacritic_Score'].append(score)\n",
    "        plot_data['Recommendations'].append(recommendations)\n",
    "\n",
    "# Create ColumnDataSource\n",
    "source = ColumnDataSource(data=plot_data)\n",
    "\n",
    "# Create the plot\n",
    "p = figure(title=\"Price vs Metacritic Score\", x_axis_label='Price (USD)', y_axis_label='Metacritic Score', tools=\"pan,wheel_zoom,box_zoom,reset,hover,save\")\n",
    "\n",
    "# Add circle glyphs\n",
    "p.circle('Price', 'Metacritic_Score', size=10, source=source, fill_alpha=0.6)\n",
    "\n",
    "# Add hover tool\n",
    "hover = p.select_one(HoverTool)\n",
    "hover.tooltips = [\n",
    "    (\"Title\", \"@Title\"),\n",
    "    (\"Price\", \"@Price\"),\n",
    "    (\"Metacritic Score\", \"@Metacritic_Score\"),\n",
    "    (\"Recommendations\", \"@Recommendations\")\n",
    "]\n",
    "\n",
    "# Show the plot in the notebook\n",
    "output_notebook()\n",
    "show(p)"
   ]
  }
 ],
 "metadata": {
  "kernelspec": {
   "display_name": ".venv",
   "language": "python",
   "name": "python3"
  },
  "language_info": {
   "codemirror_mode": {
    "name": "ipython",
    "version": 3
   },
   "file_extension": ".py",
   "mimetype": "text/x-python",
   "name": "python",
   "nbconvert_exporter": "python",
   "pygments_lexer": "ipython3",
   "version": "3.10.13"
  }
 },
 "nbformat": 4,
 "nbformat_minor": 2
}
