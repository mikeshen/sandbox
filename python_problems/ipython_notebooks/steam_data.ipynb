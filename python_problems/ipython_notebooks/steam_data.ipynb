{
 "cells": [
  {
   "cell_type": "code",
   "execution_count": 8,
   "metadata": {},
   "outputs": [
    {
     "name": "stdout",
     "output_type": "stream",
     "text": [
      "Requirement already satisfied: bokeh in /workspaces/sandbox/.venv/lib/python3.10/site-packages (3.6.2)\n",
      "Requirement already satisfied: Jinja2>=2.9 in /workspaces/sandbox/.venv/lib/python3.10/site-packages (from bokeh) (3.1.5)\n",
      "Requirement already satisfied: contourpy>=1.2 in /workspaces/sandbox/.venv/lib/python3.10/site-packages (from bokeh) (1.3.0)\n",
      "Requirement already satisfied: numpy>=1.16 in /workspaces/sandbox/.venv/lib/python3.10/site-packages (from bokeh) (2.1.3)\n",
      "Requirement already satisfied: packaging>=16.8 in /workspaces/sandbox/.venv/lib/python3.10/site-packages (from bokeh) (24.1)\n",
      "Requirement already satisfied: pandas>=1.2 in /workspaces/sandbox/.venv/lib/python3.10/site-packages (from bokeh) (2.2.3)\n",
      "Requirement already satisfied: pillow>=7.1.0 in /workspaces/sandbox/.venv/lib/python3.10/site-packages (from bokeh) (11.0.0)\n",
      "Requirement already satisfied: PyYAML>=3.10 in /workspaces/sandbox/.venv/lib/python3.10/site-packages (from bokeh) (6.0.2)\n",
      "Requirement already satisfied: tornado>=6.2 in /workspaces/sandbox/.venv/lib/python3.10/site-packages (from bokeh) (6.4.1)\n",
      "Requirement already satisfied: xyzservices>=2021.09.1 in /workspaces/sandbox/.venv/lib/python3.10/site-packages (from bokeh) (2024.9.0)\n",
      "Requirement already satisfied: MarkupSafe>=2.0 in /workspaces/sandbox/.venv/lib/python3.10/site-packages (from Jinja2>=2.9->bokeh) (3.0.2)\n",
      "Requirement already satisfied: python-dateutil>=2.8.2 in /workspaces/sandbox/.venv/lib/python3.10/site-packages (from pandas>=1.2->bokeh) (2.9.0.post0)\n",
      "Requirement already satisfied: pytz>=2020.1 in /workspaces/sandbox/.venv/lib/python3.10/site-packages (from pandas>=1.2->bokeh) (2024.2)\n",
      "Requirement already satisfied: tzdata>=2022.7 in /workspaces/sandbox/.venv/lib/python3.10/site-packages (from pandas>=1.2->bokeh) (2024.2)\n",
      "Requirement already satisfied: six>=1.5 in /workspaces/sandbox/.venv/lib/python3.10/site-packages (from python-dateutil>=2.8.2->pandas>=1.2->bokeh) (1.16.0)\n",
      "Note: you may need to restart the kernel to use updated packages.\n"
     ]
    }
   ],
   "source": [
    "%pip install bokeh"
   ]
  },
  {
   "cell_type": "markdown",
   "metadata": {
    "vscode": {
     "languageId": "plaintext"
    }
   },
   "source": [
    "# Steam Data"
   ]
  },
  {
   "cell_type": "code",
   "execution_count": 12,
   "metadata": {},
   "outputs": [
    {
     "name": "stdout",
     "output_type": "stream",
     "text": [
      "[570, 730, 578080, 1623730, 1172470, 1063730, 2358720, 1938090, 271590, 550, 553850, 1599340, 304930, 236390, 1245620, 105600, 440, 291550, 1086940, 431960, 4000, 359550, 1085660, 252490, 346110, 892970, 1091500, 218620, 901583, 238960, 242760, 322330, 1203220, 899770, 413150, 340, 381210, 945360, 1097150, 292030, 227300, 444090, 552990, 438100, 320, 272060, 739630, 990080, 620, 227940, 70, 252950, 1966720, 1517290, 1240440, 582010, 240, 108600, 386360, 10, 648800, 1468810, 444200, 755790, 1174180, 250900, 550650, 367520, 301520, 239140, 477160, 251570, 814380, 1222670, 417910, 433850, 594650, 220, 230410, 219990, 261550, 8930, 304050, 107410, 377160, 532210, 255710, 1326470, 289070, 526870, 1238810, 60, 221100, 1089350, 204360, 632360, 96000, 275850, 1811260, 322170]\n"
     ]
    }
   ],
   "source": [
    "import requests\n",
    "import json\n",
    "from itertools import islice\n",
    "\n",
    "def get_top_played_games_steamspy(limit=10):\n",
    "    url = 'https://steamspy.com/api.php?request=top100in2weeks'\n",
    "    response = requests.get(url)\n",
    "    data = response.json()\n",
    "    top_games = dict(islice(data.items(), limit))\n",
    "    return [game['appid'] for game in top_games.values()]\n",
    "\n",
    "def get_game_data(appid):\n",
    "    url = f'http://store.steampowered.com/api/appdetails?appids={appid}'\n",
    "    response = requests.get(url)\n",
    "    data = response.json()\n",
    "    if data[str(appid)]['success']:\n",
    "        return data[str(appid)]['data']\n",
    "    else:\n",
    "        return None\n",
    "\n",
    "def print_game_info(game_data):\n",
    "    if game_data:\n",
    "        print(f\"Title: {game_data.get('name', 'N/A')}\")\n",
    "        print(f\"Release Date: {game_data.get('release_date', {}).get('date', 'N/A')}\")\n",
    "        if 'price_overview' in game_data:\n",
    "            print(f\"Price: {game_data['price_overview']['final_formatted']}\")\n",
    "        else:\n",
    "            print(\"Price: Free\")\n",
    "        print(f\"Metacritic Score: {game_data.get('metacritic', {}).get('score', 'N/A')}\")\n",
    "        print(f\"Recommendations: {game_data.get('recommendations', {}).get('total', 'N/A')}\")\n",
    "        print(f\"Developers: {', '.join(game_data.get('developers', []))}\")\n",
    "        print(f\"Publishers: {', '.join(game_data.get('publishers', []))}\")\n",
    "    else:\n",
    "        print(\"Game data not found.\")\n",
    "\n",
    "# Fetch the list of top played games from SteamSpy\n",
    "top_played_games = get_top_played_games_steamspy(limit=200)\n",
    "print(top_played_games)\n"
   ]
  },
  {
   "cell_type": "code",
   "execution_count": 13,
   "metadata": {},
   "outputs": [],
   "source": [
    "import numpy as np\n",
    "\n",
    "# Fetch and store game details for each most played game\n",
    "game_data_list = []\n",
    "\n",
    "for appid in top_played_games:\n",
    "    game_data = get_game_data(appid)\n",
    "    if game_data:\n",
    "        game_data_list.append(game_data)\n",
    "\n",
    "# Convert the list of game data to a numpy array\n",
    "game_data_array = np.array(game_data_list)"
   ]
  },
  {
   "cell_type": "code",
   "execution_count": 14,
   "metadata": {},
   "outputs": [
    {
     "name": "stdout",
     "output_type": "stream",
     "text": [
      "Title: Dota 2\n",
      "Release Date: Jul 9, 2013\n",
      "Price: Free\n",
      "Metacritic Score: 90\n",
      "Recommendations: 14342\n",
      "Developers: Valve\n",
      "Publishers: Valve\n"
     ]
    }
   ],
   "source": [
    "import json\n",
    "\n",
    "# Pretty print the first game's data\n",
    "print_game_info(game_data_array[0])"
   ]
  },
  {
   "cell_type": "code",
   "execution_count": 42,
   "metadata": {},
   "outputs": [
    {
     "ename": "SyntaxError",
     "evalue": "unmatched ']' (3408437753.py, line 63)",
     "output_type": "error",
     "traceback": [
      "\u001b[0;36m  Cell \u001b[0;32mIn[42], line 63\u001b[0;36m\u001b[0m\n\u001b[0;31m    ]\u001b[0m\n\u001b[0m    ^\u001b[0m\n\u001b[0;31mSyntaxError\u001b[0m\u001b[0;31m:\u001b[0m unmatched ']'\n"
     ]
    }
   ],
   "source": [
    "from bokeh.plotting import figure, show, output_notebook\n",
    "from bokeh.models import ColumnDataSource, HoverTool\n",
    "\n",
    "# Convert price to numeric value\n",
    "def convert_price(price):\n",
    "    try:\n",
    "        if price == 'Free':\n",
    "            return 0\n",
    "        else:\n",
    "            return float(price.replace('$', ''))\n",
    "    except ValueError:\n",
    "        return None\n",
    "    \n",
    "    # Convert score to float, or return None\n",
    "    def convert_score(score):\n",
    "        try:\n",
    "            return float(score)\n",
    "        except (ValueError, TypeError):\n",
    "            return None\n",
    "\n",
    "# Extract game info\n",
    "def get_game_info(game_data):\n",
    "    title = game_data.get('name', 'N/A')\n",
    "    price = game_data.get('price_overview', {}).get('final_formatted', 'Free')\n",
    "    score = game_data.get('metacritic', {}).get('score', None)\n",
    "    recommendations = game_data.get('recommendations', {}).get('total', 'N/A')\n",
    "    return title, convert_price(price), score, recommendations\n",
    "\n",
    "\n",
    "# Prepare data for plotting\n",
    "plot_data = {\n",
    "    'Title': [],\n",
    "    'Price': [],\n",
    "    'Metacritic_Score': [],\n",
    "    'Recommendations': []\n",
    "}\n",
    "\n",
    "for game in game_data_array:\n",
    "    title, price, score, recommendations = get_game_info(game)\n",
    "    if price is not None and score is not None:\n",
    "        plot_data['Title'].append(title)\n",
    "        plot_data['Price'].append(price)\n",
    "        plot_data['Metacritic_Score'].append(score)\n",
    "        plot_data['Recommendations'].append(recommendations)\n",
    "\n",
    "# Create ColumnDataSource\n",
    "source = ColumnDataSource(data=plot_data)\n",
    "\n",
    "# Create the plot\n",
    "p = figure(title=\"Price vs Metacritic Score\", x_axis_label='Price (USD)', y_axis_label='Metacritic Score', tools=\"pan,wheel_zoom,box_zoom,reset,hover,save\")\n",
    "\n",
    "# Add circle glyphs\n",
    "p.circle('Price', 'Metacritic_Score', size=10, source=source, fill_alpha=0.6)\n",
    "\n",
    "# Add hover tool\n",
    "hover = p.select_one(HoverTool)\n",
    "hover.tooltips = [\n",
    "    (\"Title\", \"@Title\"),\n",
    "    (\"Price\", \"@Price\"),\n",
    "    (\"Metacritic Score\", \"@Metacritic_Score\"),\n",
    "    (\"Recommendations\", \"@Recommendations\")\n",
    "]\n",
    "]\n",
    "\n",
    "# Show the plot in the notebook\n",
    "output_notebook()\n",
    "show(p)"
   ]
  }
 ],
 "metadata": {
  "kernelspec": {
   "display_name": ".venv",
   "language": "python",
   "name": "python3"
  },
  "language_info": {
   "codemirror_mode": {
    "name": "ipython",
    "version": 3
   },
   "file_extension": ".py",
   "mimetype": "text/x-python",
   "name": "python",
   "nbconvert_exporter": "python",
   "pygments_lexer": "ipython3",
   "version": "3.10.13"
  }
 },
 "nbformat": 4,
 "nbformat_minor": 2
}
