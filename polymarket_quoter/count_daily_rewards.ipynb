{
 "cells": [
  {
   "cell_type": "markdown",
   "id": "0d478281",
   "metadata": {},
   "source": [
    "# Python Polymarket Quoter Exploration\n",
    "\n",
    "This Jupyter Notebook contains explorations related to my relavent polymarket quoting.\n",
    "\n",
    "## Table of Contents\n",
    "\n",
    "1. [Introduction](#Introduction)\n",
    "2. [Hello World Example](#Hello-World-Example)\n",
    "\n",
    "## Introduction\n",
    "\n",
    "This notebook demonstrates basic Python programming concepts and techniques. Below is a simple \"Hello World\" example."
   ]
  },
  {
   "cell_type": "markdown",
   "id": "c719801e",
   "metadata": {},
   "source": [
    "## Hello World Example\n",
    "\n",
    "The following cell prints \"hello world\" to the console."
   ]
  },
  {
   "cell_type": "code",
   "execution_count": null,
   "id": "3366e563-aaa1-49e4-a0e2-ae9445a2d198",
   "metadata": {},
   "outputs": [],
   "source": [
    "print(\"hello world\")"
   ]
  },
  {
   "cell_type": "markdown",
   "id": "e6284315",
   "metadata": {},
   "source": [
    "## Test Two Example"
   ]
  },
  {
   "cell_type": "code",
   "execution_count": null,
   "id": "662b643e",
   "metadata": {},
   "outputs": [],
   "source": [
    "print(\"Test two\")"
   ]
  }
 ],
 "metadata": {
  "kernelspec": {
   "display_name": "Python 3",
   "language": "python",
   "name": "python3"
  },
  "language_info": {
   "codemirror_mode": {
    "name": "ipython",
    "version": 3
   },
   "file_extension": ".py",
   "mimetype": "text/x-python",
   "name": "python",
   "nbconvert_exporter": "python",
   "pygments_lexer": "ipython3",
   "version": "3.10.13"
  }
 },
 "nbformat": 4,
 "nbformat_minor": 5
}
